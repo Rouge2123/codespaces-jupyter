{
 "cells": [
  {
   "cell_type": "code",
   "execution_count": 1,
   "metadata": {},
   "outputs": [
    {
     "name": "stdout",
     "output_type": "stream",
     "text": [
      "-38\n"
     ]
    }
   ],
   "source": [
    "x = 10\n",
    "y = 8 * 6\n",
    "z = x - y \n",
    "print(z)"
   ]
  },
  {
   "cell_type": "markdown",
   "metadata": {},
   "source": [
    "### First Impression\n",
    "This is my first time working with a Jupyter Notebook, and I have to say, this is quite cool.\n",
    "It's awesome how you can split the code blocks, reminds me of Matlab.\n",
    "What's great is that you can also change the programming language, so you don't need to create a new file or project, you can just change the language in the bottom right corner of the code block - at least that what you can do in VS Code, not sure if there's the same or similar functioncality in other IDEs"
   ]
  },
  {
   "cell_type": "code",
   "execution_count": null,
   "metadata": {
    "vscode": {
     "languageId": "javascript"
    }
   },
   "outputs": [],
   "source": []
  },
  {
   "cell_type": "markdown",
   "metadata": {},
   "source": [
    "```\n",
    "for (let i = 0; i < 10; i++) {\n",
    "    console.log(i+1)\n",
    "  }\n",
    "```\n",
    "\n",
    "I'm not understanding why it's not liking my JS code, the code is valid... maybe a bug?"
   ]
  },
  {
   "cell_type": "code",
   "execution_count": 2,
   "metadata": {},
   "outputs": [
    {
     "name": "stdout",
     "output_type": "stream",
     "text": [
      "1\n",
      "2\n",
      "3\n",
      "4\n",
      "5\n",
      "6\n",
      "7\n",
      "8\n",
      "9\n",
      "10\n"
     ]
    }
   ],
   "source": [
    "# For loop counting from 1 - 10\n",
    "i = range(10)\n",
    "for x in i:\n",
    "    print(x+1)"
   ]
  }
 ],
 "metadata": {
  "kernelspec": {
   "display_name": "Python 3",
   "language": "python",
   "name": "python3"
  },
  "language_info": {
   "codemirror_mode": {
    "name": "ipython",
    "version": 3
   },
   "file_extension": ".py",
   "mimetype": "text/x-python",
   "name": "python",
   "nbconvert_exporter": "python",
   "pygments_lexer": "ipython3",
   "version": "3.9.6"
  }
 },
 "nbformat": 4,
 "nbformat_minor": 2
}
